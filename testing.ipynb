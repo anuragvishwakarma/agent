{
 "cells": [
  {
   "cell_type": "code",
   "execution_count": 10,
   "id": "a5ea2e4e",
   "metadata": {},
   "outputs": [
    {
     "name": "stdout",
     "output_type": "stream",
     "text": [
      "CSV loaded successfully\n"
     ]
    }
   ],
   "source": [
    "import pandas as pd\n",
    "try:\n",
    "    df = pd.read_csv(\"data/synthetic_maintenance_records.csv\",sep=\",\",encoding=\"utf-8\",header=0,skip_blank_lines=True,on_bad_lines='skip')\n",
    "    print(\"CSV loaded successfully\")\n",
    "except Exception as e:\n",
    "    print(f\"Error: {e}\")"
   ]
  },
  {
   "cell_type": "code",
   "execution_count": 7,
   "id": "b72af95d",
   "metadata": {},
   "outputs": [
    {
     "name": "stdout",
     "output_type": "stream",
     "text": [
      "  Equipment ID;Date of Inspection;Pos;Component/Function;Inspection Type;Fieldworker Name;Notes\n",
      "0  HCK_EQ001;01/01/2023;A;Safety devices against ...                                           \n",
      "1  HCK_EQ001;01/01/2023;A;Safety devices against ...                                           \n",
      "2  HCK_EQ001;01/01/2023;B;Boiler level indicators...                                           \n",
      "3  HCK_EQ001;01/01/2023;D;Valves;O;Charlie;Pressu...                                           \n",
      "4  HCK_EQ001;01/01/2023;D;Valves;T;Alice;No issue...                                           \n"
     ]
    }
   ],
   "source": [
    "df = pd.read_csv(\"data/synthetic_maintenance_records.csv\",sep=\",\",encoding=\"utf-8\",header=0,on_bad_lines='skip',skip_blank_lines=True)\n",
    "print(df.head())"
   ]
  },
  {
   "cell_type": "code",
   "execution_count": null,
   "id": "3cb7bee9",
   "metadata": {},
   "outputs": [],
   "source": []
  }
 ],
 "metadata": {
  "kernelspec": {
   "display_name": "base",
   "language": "python",
   "name": "python3"
  },
  "language_info": {
   "codemirror_mode": {
    "name": "ipython",
    "version": 3
   },
   "file_extension": ".py",
   "mimetype": "text/x-python",
   "name": "python",
   "nbconvert_exporter": "python",
   "pygments_lexer": "ipython3",
   "version": "3.13.5"
  }
 },
 "nbformat": 4,
 "nbformat_minor": 5
}
